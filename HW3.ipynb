{
  "cells": [
    {
      "cell_type": "markdown",
      "metadata": {
        "id": "639CqBQi1p5L"
      },
      "source": [
        "## HW3\n",
        "### Mohammadreza Yadegari"
      ]
    },
    {
      "cell_type": "markdown",
      "metadata": {
        "id": "pLIXE0X31p5W"
      },
      "source": [
        "In this homework, I use the 'Iris' dataset, which includes three iris species with 50 samples each, along with some properties of each flower. One flower species is linearly separable from the other two; however, the latter two are not linearly separable from each other. Therefore, I utilize this property and remove 'Iris-Versicolor' (the middle one) because I want to make use of the linear separability feature.\n"
      ]
    },
    {
      "cell_type": "code",
      "execution_count": null,
      "metadata": {
        "id": "O240VRIb1p5n"
      },
      "outputs": [],
      "source": [
        "import csv\n",
        "import random\n",
        "import math\n",
        "import numpy as np\n",
        "import matplotlib.pyplot as plt\n",
        "import pandas as pd"
      ]
    },
    {
      "cell_type": "code",
      "execution_count": null,
      "metadata": {
        "id": "h7iaKwS01p5t",
        "outputId": "107b803b-dfe1-4d58-b91a-fcdc80b5c07e"
      },
      "outputs": [
        {
          "name": "stdout",
          "output_type": "stream",
          "text": [
            "HEADERS\n",
            "['Id', 'SepalLengthCm', 'SepalWidthCm', 'PetalLengthCm', 'PetalWidthCm', 'Species']\n",
            "Dataset Size\n",
            "150 X 6\n"
          ]
        }
      ],
      "source": [
        "def loadDataset(filename):\n",
        "    with open(filename, 'r') as csvfile:\n",
        "        lines = csv.reader(csvfile)\n",
        "        dataset = list(lines)\n",
        "        headers = dataset[0]\n",
        "        dataset = dataset[1: len(dataset)]\n",
        "        return dataset , headers\n",
        "dataset , headers = loadDataset('Iris.csv')\n",
        "print(\"HEADERS\")\n",
        "print(headers)\n",
        "#print(dataset[0:2])\n",
        "dataset = np.array(dataset)\n",
        "#dataset = dataset.astype(float)\n",
        "print(\"Dataset Size\")\n",
        "print(len(dataset), \"X\", len(dataset[0]))\n",
        "# The 8 bottom lines remove additional columns and prepare the data set\n",
        "p_tr = dataset[ :40 , 1 : -2]\n",
        "p_ts = dataset[40 :50 , 1 : -2]\n",
        "\n",
        "q_tr = dataset[50 :90 , 1 : -2]\n",
        "q_ts = dataset[90 :100 , 1 : -2]\n",
        "\n",
        "a_tr = dataset[ :40 , -1]\n",
        "a_ts = dataset[40 :50 , -1]\n",
        "\n",
        "b_tr = dataset[50 :90 , -1]\n",
        "b_ts = dataset[90 :100 , -1]\n",
        "#print(p_tr)\n",
        "#print(p_tr.shape)\n",
        "#print(q_tr)\n",
        "#print(q_tr.shape)"
      ]
    },
    {
      "cell_type": "code",
      "execution_count": null,
      "metadata": {
        "id": "QZCLdG8C1p5y",
        "outputId": "8db4a13c-0ef1-4539-f595-b1cc336a754a"
      },
      "outputs": [
        {
          "name": "stdout",
          "output_type": "stream",
          "text": [
            "[[0.2962963  0.625      0.09756098]\n",
            " [0.22222222 0.41666667 0.09756098]\n",
            " [0.14814815 0.5        0.07317073]\n",
            " [0.11111111 0.45833333 0.12195122]\n",
            " [0.25925926 0.66666667 0.09756098]\n",
            " [0.40740741 0.79166667 0.17073171]\n",
            " [0.11111111 0.58333333 0.09756098]\n",
            " [0.25925926 0.58333333 0.12195122]\n",
            " [0.03703704 0.375      0.09756098]\n",
            " [0.22222222 0.45833333 0.12195122]\n",
            " [0.40740741 0.70833333 0.12195122]\n",
            " [0.18518519 0.58333333 0.14634146]\n",
            " [0.18518519 0.41666667 0.09756098]\n",
            " [0.         0.41666667 0.02439024]\n",
            " [0.55555556 0.83333333 0.04878049]\n",
            " [0.51851852 1.         0.12195122]\n",
            " [0.40740741 0.79166667 0.07317073]\n",
            " [0.2962963  0.625      0.09756098]\n",
            " [0.51851852 0.75       0.17073171]\n",
            " [0.2962963  0.75       0.12195122]\n",
            " [0.40740741 0.58333333 0.17073171]\n",
            " [0.2962963  0.70833333 0.12195122]\n",
            " [0.11111111 0.66666667 0.        ]\n",
            " [0.2962963  0.54166667 0.17073171]\n",
            " [0.18518519 0.58333333 0.2195122 ]\n",
            " [0.25925926 0.41666667 0.14634146]\n",
            " [0.25925926 0.58333333 0.14634146]\n",
            " [0.33333333 0.625      0.12195122]\n",
            " [0.33333333 0.58333333 0.09756098]\n",
            " [0.14814815 0.5        0.14634146]\n",
            " [0.18518519 0.45833333 0.14634146]\n",
            " [0.40740741 0.58333333 0.12195122]\n",
            " [0.33333333 0.875      0.12195122]\n",
            " [0.44444444 0.91666667 0.09756098]\n",
            " [0.22222222 0.45833333 0.12195122]\n",
            " [0.25925926 0.5        0.04878049]\n",
            " [0.44444444 0.625      0.07317073]\n",
            " [0.22222222 0.45833333 0.12195122]\n",
            " [0.03703704 0.41666667 0.07317073]\n",
            " [0.2962963  0.58333333 0.12195122]\n",
            " [1.         0.5        0.90243902]\n",
            " [0.77777778 0.5        0.85365854]\n",
            " [0.96296296 0.45833333 0.95121951]\n",
            " [0.44444444 0.125      0.73170732]\n",
            " [0.81481481 0.33333333 0.87804878]\n",
            " [0.51851852 0.33333333 0.85365854]\n",
            " [0.74074074 0.54166667 0.90243902]\n",
            " [0.22222222 0.16666667 0.56097561]\n",
            " [0.85185185 0.375      0.87804878]\n",
            " [0.33333333 0.29166667 0.70731707]\n",
            " [0.25925926 0.         0.6097561 ]\n",
            " [0.59259259 0.41666667 0.7804878 ]\n",
            " [0.62962963 0.08333333 0.73170732]\n",
            " [0.66666667 0.375      0.90243902]\n",
            " [0.48148148 0.375      0.63414634]\n",
            " [0.88888889 0.45833333 0.82926829]\n",
            " [0.48148148 0.41666667 0.85365854]\n",
            " [0.55555556 0.29166667 0.75609756]\n",
            " [0.7037037  0.08333333 0.85365854]\n",
            " [0.48148148 0.20833333 0.70731707]\n",
            " [0.59259259 0.5        0.92682927]\n",
            " [0.66666667 0.33333333 0.73170732]\n",
            " [0.74074074 0.20833333 0.95121951]\n",
            " [0.66666667 0.33333333 0.90243902]\n",
            " [0.77777778 0.375      0.80487805]\n",
            " [0.85185185 0.41666667 0.82926829]\n",
            " [0.92592593 0.33333333 0.92682927]\n",
            " [0.88888889 0.41666667 0.97560976]\n",
            " [0.62962963 0.375      0.85365854]\n",
            " [0.51851852 0.25       0.6097561 ]\n",
            " [0.44444444 0.16666667 0.68292683]\n",
            " [0.44444444 0.16666667 0.65853659]\n",
            " [0.55555556 0.29166667 0.70731707]\n",
            " [0.62962963 0.29166667 1.        ]\n",
            " [0.40740741 0.41666667 0.85365854]\n",
            " [0.62962963 0.58333333 0.85365854]\n",
            " [0.88888889 0.45833333 0.90243902]\n",
            " [0.74074074 0.125      0.82926829]\n",
            " [0.48148148 0.41666667 0.75609756]\n",
            " [0.44444444 0.20833333 0.73170732]]\n"
          ]
        }
      ],
      "source": [
        "X_train = np.vstack((p_tr,q_tr))\n",
        "a_tr = a_tr.reshape(40,1)\n",
        "b_tr = b_tr.reshape(40,1)\n",
        "m = np.vstack((a_tr,b_tr))\n",
        "Y_train = []\n",
        "for i in m:\n",
        "    if ( i == 'Iris-setosa'):\n",
        "        Y_train.append(1)\n",
        "    else:\n",
        "        Y_train.append(-1)\n",
        "Y_train = np.array(Y_train)\n",
        "#Y_train = Y_train.reshape(80,1)\n",
        "#print(Y_train)\n",
        "#print(Y_train.shape)\n",
        "X_train.shape\n",
        "Y_train.shape\n",
        "X_train = X_train.astype(float)\n",
        "\n",
        "#print(X_train)\n",
        "X_train.shape\n",
        "X_train[: , 0:1] = (X_train[: , 0:1] - 4.3)/2.7\n",
        "X_train[: , 1:2] = (X_train[: , 1:2] - 2)/2.4\n",
        "X_train[: ,  -1] = (X_train[: , -1] - 1)/4.1\n",
        "print(X_train)\n"
      ]
    },
    {
      "cell_type": "code",
      "execution_count": null,
      "metadata": {
        "id": "tqatjMiR1p54",
        "outputId": "e116df10-0c73-4263-ff09-0abf657536e0"
      },
      "outputs": [
        {
          "name": "stdout",
          "output_type": "stream",
          "text": [
            "[[0.25925926 0.625      0.07317073]\n",
            " [0.07407407 0.125      0.07317073]\n",
            " [0.03703704 0.5        0.07317073]\n",
            " [0.25925926 0.625      0.14634146]\n",
            " [0.2962963  0.75       0.2195122 ]\n",
            " [0.18518519 0.41666667 0.09756098]\n",
            " [0.2962963  0.75       0.14634146]\n",
            " [0.11111111 0.5        0.09756098]\n",
            " [0.37037037 0.70833333 0.12195122]\n",
            " [0.25925926 0.54166667 0.09756098]\n",
            " [0.44444444 0.25       0.82926829]\n",
            " [0.66666667 0.41666667 0.87804878]\n",
            " [0.55555556 0.25       0.73170732]\n",
            " [0.25925926 0.125      0.56097561]\n",
            " [0.48148148 0.29166667 0.7804878 ]\n",
            " [0.51851852 0.41666667 0.7804878 ]\n",
            " [0.51851852 0.375      0.7804878 ]\n",
            " [0.7037037  0.375      0.80487805]\n",
            " [0.2962963  0.20833333 0.48780488]\n",
            " [0.51851852 0.33333333 0.75609756]]\n"
          ]
        }
      ],
      "source": [
        "X_test = np.vstack((p_ts,q_ts))\n",
        "a_ts = a_ts.reshape(10,1)\n",
        "b_ts = b_ts.reshape(10,1)\n",
        "m_test = np.vstack((a_ts,b_ts))\n",
        "Y_test = []\n",
        "for i in m_test:\n",
        "    if ( i == 'Iris-setosa'):\n",
        "        Y_test.append(1)\n",
        "    else:\n",
        "        Y_test.append(-1)\n",
        "Y_test = np.array(Y_test)\n",
        "#Y_train = Y_train.reshape(80,1)\n",
        "#print(Y_test)\n",
        "#print(Y_test.shape)\n",
        "X_test.shape\n",
        "Y_test.shape\n",
        "X_test = X_test.astype(float)\n",
        "\n",
        "#print(X_test)\n",
        "X_test.shape\n",
        "X_test[: , 0:1] = (X_test[: , 0:1] - 4.3)/2.7\n",
        "X_test[: , 1:2] = (X_test[: , 1:2] - 2)/2.4\n",
        "X_test[: ,  -1] = (X_test[: , -1] - 1)/4.1\n",
        "print(X_test)"
      ]
    },
    {
      "cell_type": "code",
      "execution_count": null,
      "metadata": {
        "id": "8-YmfZhv1p58",
        "outputId": "9b8c458d-bb2a-41f7-8ffc-e08911867a3e"
      },
      "outputs": [
        {
          "data": {
            "image/png": "[encoded data removed]",
            "text/plain": [
              "<Figure size 720x432 with 1 Axes>"
            ]
          },
          "metadata": {
            "needs_background": "light"
          },
          "output_type": "display_data"
        }
      ],
      "source": [
        "plt.figure(figsize=(10, 6))\n",
        "plt.scatter(X_train[Y_train == 0][:, 0], X_train[Y_train == 0][:, 1], color='b', label='0')\n",
        "plt.scatter(X_train[Y_train == 1][:, 0], X_train[Y_train == 1][:, 1], color='r', label='1')\n",
        "plt.legend();"
      ]
    },
    {
      "cell_type": "markdown",
      "metadata": {
        "id": "CD66QbBj1p5-"
      },
      "source": [
        "### Create base functions"
      ]
    },
    {
      "cell_type": "code",
      "execution_count": null,
      "metadata": {
        "id": "x0Nu_wKW1p5_"
      },
      "outputs": [],
      "source": [
        "def base_function(g,y,z,m):\n",
        "    c = []\n",
        "    for i in range(m):\n",
        "        for j in range(m):\n",
        "            for k in range(m):\n",
        "                if (((i + j + k) <= m)):\n",
        "                        c.append((g**i)*(y**j)*(z**k))\n",
        "\n",
        "    c.append(g**m)\n",
        "    c.append(y**m)\n",
        "    c.append(z**m)\n",
        "    return(c)"
      ]
    },
    {
      "cell_type": "markdown",
      "metadata": {
        "id": "A_iulM8l1p6B"
      },
      "source": [
        "### Create design matrix"
      ]
    },
    {
      "cell_type": "code",
      "execution_count": null,
      "metadata": {
        "id": "ESCMjSPW1p6C"
      },
      "outputs": [],
      "source": [
        "def design_matrix(v,m):\n",
        "    f = []\n",
        "    for i in range(len(v)):\n",
        "        f.append(base_function(v[i][0],v[i][1],v[i][2],m))\n",
        "        #print(f)\n",
        "    return(f)"
      ]
    },
    {
      "cell_type": "markdown",
      "metadata": {
        "id": "9ah2tmD21p6E"
      },
      "source": [
        "### In this cell create Target matrix of train set for The Ieast square classification"
      ]
    },
    {
      "cell_type": "code",
      "execution_count": null,
      "metadata": {
        "id": "FloUZ0931p6F",
        "outputId": "3059ce68-eeb7-420a-97a7-5db9337c094d"
      },
      "outputs": [
        {
          "data": {
            "text/plain": [
              "(80, 2)"
            ]
          },
          "execution_count": 129,
          "metadata": {},
          "output_type": "execute_result"
        }
      ],
      "source": [
        "q = len(Y_train)\n",
        "p = 2\n",
        "F = []\n",
        "for i in range(q):\n",
        "    F.append([0] * p)\n",
        "c = 0\n",
        "for i in Y_train:\n",
        "    if (i == 1):\n",
        "        F[c][0] = i\n",
        "        c += 1\n",
        "    if (i == -1):\n",
        "        F[c][1] = i\n",
        "        c += 1\n",
        "T_train = np.array(F)\n",
        "#print(T_train)\n",
        "T_train.shape"
      ]
    },
    {
      "cell_type": "markdown",
      "metadata": {
        "id": "rWDi-OCZ1p6G"
      },
      "source": [
        "### In this cell create Target matrix of test set for The Ieast square classification"
      ]
    },
    {
      "cell_type": "code",
      "execution_count": null,
      "metadata": {
        "id": "TGG820iE1p6H",
        "outputId": "1829d986-7427-4142-f99b-f2986ba6d66b"
      },
      "outputs": [
        {
          "data": {
            "text/plain": [
              "(20, 2)"
            ]
          },
          "execution_count": 134,
          "metadata": {},
          "output_type": "execute_result"
        }
      ],
      "source": [
        "q = len(Y_test)\n",
        "p = 2\n",
        "F = []\n",
        "for i in range(q):\n",
        "    F.append([0] * p)\n",
        "c = 0\n",
        "for i in Y_test:\n",
        "    if (i == 1):\n",
        "        F[c][0] = i\n",
        "        c += 1\n",
        "    if (i == -1):\n",
        "        F[c][1] = i\n",
        "        c += 1\n",
        "T_test = np.array(F)\n",
        "#print(T_test)\n",
        "T_test.shape"
      ]
    },
    {
      "cell_type": "code",
      "execution_count": null,
      "metadata": {
        "id": "QjnjvVR61p6I"
      },
      "outputs": [],
      "source": [
        "def Criterion(Y_test,T_test):\n",
        "    TP = 0\n",
        "    FN = 0\n",
        "    FP = 0\n",
        "    Y_test = np.round(Y_test)\n",
        "    for i in range(len(Y_test)):\n",
        "        if ((Y_test[i][0] == 1) and (T_test[i][0] == 1)):\n",
        "            TP += 1\n",
        "        if ((Y_test[i][0] == 0) and (T_test[i][0] == 1)):\n",
        "            FN += 1\n",
        "        if ((Y_test[i][0] == 1) and (T_test[i][0] == 0)):\n",
        "            FP += 1\n",
        "    Recall = TP / (TP + FN)\n",
        "    Precision = TP / (TP + FP)\n",
        "    f1_score = (2 * Recall * Precision) / (Recall + Precision)\n",
        "    #print(f'Recall on test data is: {Recall}')\n",
        "    #print(f'Precision on test data is: {Precision}')\n",
        "    #print(f'F1_score on test data is: {F1_score}')\n",
        "    return f1_score"
      ]
    },
    {
      "cell_type": "markdown",
      "metadata": {
        "id": "LOcszlVZ1p6K"
      },
      "source": [
        "###Least square classification"
      ]
    },
    {
      "cell_type": "code",
      "execution_count": null,
      "metadata": {
        "id": "lk8HK8gE1p6K"
      },
      "outputs": [],
      "source": [
        "degree = 10\n",
        "F1_score = []\n",
        "for i in range(1,degree+1):\n",
        "    Fai_train = np.array(design_matrix(X_train,i))\n",
        "    W = np.linalg.pinv(Fai_train, rcond=1e-15) @ T_train\n",
        "    Fai_test = np.array(design_matrix(X_test,i))\n",
        "    y_test = Fai_test @ W\n",
        "    F1_score.append(Criterion(y_test,T_test))"
      ]
    },
    {
      "cell_type": "markdown",
      "metadata": {
        "id": "RA6vSMEw1p6L"
      },
      "source": [
        "### Table of F1_score for The Ieast square classification"
      ]
    },
    {
      "cell_type": "code",
      "execution_count": null,
      "metadata": {
        "id": "vedmSi571p6M",
        "outputId": "6034ecf2-eaf1-497c-f164-f49768c5f803"
      },
      "outputs": [
        {
          "data": {
            "text/html": [
              "<div>\n",
              "<style scoped>\n",
              "    .dataframe tbody tr th:only-of-type {\n",
              "        vertical-align: middle;\n",
              "    }\n",
              "\n",
              "    .dataframe tbody tr th {\n",
              "        vertical-align: top;\n",
              "    }\n",
              "\n",
              "    .dataframe thead th {\n",
              "        text-align: right;\n",
              "    }\n",
              "</style>\n",
              "<table border=\"1\" class=\"dataframe\">\n",
              "  <thead>\n",
              "    <tr style=\"text-align: right;\">\n",
              "      <th></th>\n",
              "      <th>Degree</th>\n",
              "      <th>F1_score of LSC</th>\n",
              "    </tr>\n",
              "  </thead>\n",
              "  <tbody>\n",
              "    <tr>\n",
              "      <th>0</th>\n",
              "      <td>1</td>\n",
              "      <td>1.0</td>\n",
              "    </tr>\n",
              "    <tr>\n",
              "      <th>1</th>\n",
              "      <td>2</td>\n",
              "      <td>1.0</td>\n",
              "    </tr>\n",
              "    <tr>\n",
              "      <th>2</th>\n",
              "      <td>3</td>\n",
              "      <td>1.0</td>\n",
              "    </tr>\n",
              "    <tr>\n",
              "      <th>3</th>\n",
              "      <td>4</td>\n",
              "      <td>1.0</td>\n",
              "    </tr>\n",
              "    <tr>\n",
              "      <th>4</th>\n",
              "      <td>5</td>\n",
              "      <td>1.0</td>\n",
              "    </tr>\n",
              "    <tr>\n",
              "      <th>5</th>\n",
              "      <td>6</td>\n",
              "      <td>1.0</td>\n",
              "    </tr>\n",
              "    <tr>\n",
              "      <th>6</th>\n",
              "      <td>7</td>\n",
              "      <td>1.0</td>\n",
              "    </tr>\n",
              "    <tr>\n",
              "      <th>7</th>\n",
              "      <td>8</td>\n",
              "      <td>1.0</td>\n",
              "    </tr>\n",
              "    <tr>\n",
              "      <th>8</th>\n",
              "      <td>9</td>\n",
              "      <td>1.0</td>\n",
              "    </tr>\n",
              "    <tr>\n",
              "      <th>9</th>\n",
              "      <td>10</td>\n",
              "      <td>1.0</td>\n",
              "    </tr>\n",
              "  </tbody>\n",
              "</table>\n",
              "</div>"
            ],
            "text/plain": [
              "   Degree  F1_score of LSC\n",
              "0       1              1.0\n",
              "1       2              1.0\n",
              "2       3              1.0\n",
              "3       4              1.0\n",
              "4       5              1.0\n",
              "5       6              1.0\n",
              "6       7              1.0\n",
              "7       8              1.0\n",
              "8       9              1.0\n",
              "9      10              1.0"
            ]
          },
          "execution_count": 173,
          "metadata": {},
          "output_type": "execute_result"
        }
      ],
      "source": [
        "H = []\n",
        "for i in range(1,degree+1):\n",
        "    H.append(i)\n",
        "df = pd.DataFrame()\n",
        "df['Degree'] = H\n",
        "df['F1_score of LSC'] = F1_score\n",
        "df\n",
        ""
      ]
    },
    {
      "cell_type": "markdown",
      "metadata": {
        "id": "InjKCkFE1p6O"
      },
      "source": [
        "### In the four bottom cells, I create functions for Fisher's Linear Discriminant Method"
      ]
    },
    {
      "cell_type": "code",
      "execution_count": null,
      "metadata": {
        "id": "J2BE6sj_1p6O"
      },
      "outputs": [],
      "source": [
        "def base_function_F(g,y,z,m):\n",
        "    c = []\n",
        "    for i in range(1,m):\n",
        "        for j in range(1,m):\n",
        "            for k in range(1,m):\n",
        "                if (((i + j + k) <= m)):\n",
        "                        c.append((g**i)*(y**j)*(z**k))\n",
        "\n",
        "    c.append(g**m)\n",
        "    c.append(y**m)\n",
        "    c.append(z**m)\n",
        "    return(c)\n",
        ""
      ]
    },
    {
      "cell_type": "code",
      "execution_count": null,
      "metadata": {
        "id": "UirFv_yg1p6P"
      },
      "outputs": [],
      "source": [
        "def design_matrix_F(v,m):\n",
        "    f = []\n",
        "    for i in range(len(v)):\n",
        "        f.append(base_function_F(v[i][0],v[i][1],v[i][2],m))\n",
        "        #print(f)\n",
        "    return(f)"
      ]
    },
    {
      "cell_type": "code",
      "execution_count": null,
      "metadata": {
        "id": "PlBJUeIV1p6R"
      },
      "outputs": [],
      "source": [
        "def Criterion_F(y,t):\n",
        "    TP = 0\n",
        "    FN = 0\n",
        "    FP = 0\n",
        "    for i in range(len(y)):\n",
        "        if ((y[i] == 1) and (t[i] == 1)):\n",
        "            TP += 1\n",
        "        if ((y[i] == -1) and (t[i] == 1)):\n",
        "            FN += 1\n",
        "        if ((y[i] == 1) and (t[i] == -1)):\n",
        "            FP += 1\n",
        "    Recall = TP / (TP + FN)\n",
        "    Precision = TP / (TP + FP)\n",
        "    f1_score = (2 * Recall * Precision) / (Recall + Precision)\n",
        "    #print(f'Recall on test data is: {Recall}')\n",
        "    #print(f'Precision on test data is: {Precision}')\n",
        "    #print(f'F1_score on test data is: {F1_score}')\n",
        "    return f1_score"
      ]
    },
    {
      "cell_type": "markdown",
      "metadata": {
        "id": "oH7Fu0gm1p6R"
      },
      "source": [
        "## Fisher's Linear discrimination method\n"
      ]
    },
    {
      "cell_type": "code",
      "execution_count": null,
      "metadata": {
        "id": "y3OqQCCM1p6S",
        "outputId": "5656cb01-a70a-4d4c-cd98-d9469dcf5cd2"
      },
      "outputs": [
        {
          "data": {
            "text/html": [
              "<div>\n",
              "<style scoped>\n",
              "    .dataframe tbody tr th:only-of-type {\n",
              "        vertical-align: middle;\n",
              "    }\n",
              "\n",
              "    .dataframe tbody tr th {\n",
              "        vertical-align: top;\n",
              "    }\n",
              "\n",
              "    .dataframe thead th {\n",
              "        text-align: right;\n",
              "    }\n",
              "</style>\n",
              "<table border=\"1\" class=\"dataframe\">\n",
              "  <thead>\n",
              "    <tr style=\"text-align: right;\">\n",
              "      <th></th>\n",
              "      <th>Degree</th>\n",
              "      <th>F1_score of FLD</th>\n",
              "    </tr>\n",
              "  </thead>\n",
              "  <tbody>\n",
              "    <tr>\n",
              "      <th>0</th>\n",
              "      <td>1</td>\n",
              "      <td>0.947368</td>\n",
              "    </tr>\n",
              "    <tr>\n",
              "      <th>1</th>\n",
              "      <td>2</td>\n",
              "      <td>1.000000</td>\n",
              "    </tr>\n",
              "    <tr>\n",
              "      <th>2</th>\n",
              "      <td>3</td>\n",
              "      <td>1.000000</td>\n",
              "    </tr>\n",
              "    <tr>\n",
              "      <th>3</th>\n",
              "      <td>4</td>\n",
              "      <td>0.461538</td>\n",
              "    </tr>\n",
              "    <tr>\n",
              "      <th>4</th>\n",
              "      <td>5</td>\n",
              "      <td>0.666667</td>\n",
              "    </tr>\n",
              "  </tbody>\n",
              "</table>\n",
              "</div>"
            ],
            "text/plain": [
              "   Degree  F1_score of FLD\n",
              "0       1         0.947368\n",
              "1       2         1.000000\n",
              "2       3         1.000000\n",
              "3       4         0.461538\n",
              "4       5         0.666667"
            ]
          },
          "execution_count": 175,
          "metadata": {},
          "output_type": "execute_result"
        }
      ],
      "source": [
        "degree = 5 # at first i get larger degree but at degree 6 and larger degree than 6, the LSTSQ can not solve equation and print \"LinAlgError: SVD did not converge in Linear Least Squares\"\n",
        "F1_score_F = []\n",
        "for i in range(1,degree + 1):\n",
        "    Fai_train_F = np.array(design_matrix_F(X_train,i))\n",
        "    Fai_test_F = np.array(design_matrix_F(X_test,i))\n",
        "    Fai_train_F_1 = Fai_train_F[:40 , :]\n",
        "    Fai_train_F_2 = Fai_train_F[40:80 , :]\n",
        "    M1 = np.mean(Fai_train_F_1, axis = 0)\n",
        "    M2 = np.mean(Fai_train_F_2, axis = 0)\n",
        "    Sw = []\n",
        "    B = np.empty((len(Fai_train_F[0]),len(Fai_train_F[0])))\n",
        "    for k in range(len(Fai_train_F_1)):\n",
        "        B += (((Fai_train_F_1[k].reshape(len(Fai_train_F[0]),1) - M1.reshape(len(Fai_train_F[0]),1)) * (Fai_train_F_1[k].reshape(len(Fai_train_F[0]),1) - M1.reshape(len(Fai_train_F[0]),1)).T) + ((Fai_train_F_2[k].reshape(len(Fai_train_F[0]),1) - M2.reshape(len(Fai_train_F[0]),1)) * (Fai_train_F_2[k].reshape(len(Fai_train_F[0]),1) - M2.reshape(len(Fai_train_F[0]),1)).T))\n",
        "    Sw = np.array(B)\n",
        "    WF = np.linalg.lstsq(Sw, (M1 - M2), rcond=None)[0]\n",
        "    #print(WF)\n",
        "    WF = np.array(WF)\n",
        "    #print(WF.shape)\n",
        "\n",
        "    W0 = (-(1/2)) * WF.T @ (M1 + M2)\n",
        "    #print(W0)\n",
        "    y_p = Fai_test_F @  (50 * WF) + W0\n",
        "    #print(y_p.reshape(20,1))\n",
        "    Y_F_R = []\n",
        "    for j in y_p:\n",
        "        if j >= 0:\n",
        "            Y_F_R.append(1)\n",
        "        if j < 0:\n",
        "            Y_F_R.append(-1)\n",
        "    #print(Y_F_R)\n",
        "    F1_score_F.append(Criterion_F(Y_F_R,Y_test))\n",
        "H_F = []\n",
        "for i in range(1,degree + 1):\n",
        "    H_F.append(i)\n",
        "df = pd.DataFrame()\n",
        "df['Degree'] = H_F\n",
        "df['F1_score of FLD'] = F1_score_F\n",
        "df"
      ]
    },
    {
      "cell_type": "markdown",
      "metadata": {
        "id": "2XFsVavx1p6T"
      },
      "source": [
        "# Linear Perceptron"
      ]
    },
    {
      "cell_type": "code",
      "execution_count": null,
      "metadata": {
        "id": "Uy2UnKoF1p6U"
      },
      "outputs": [],
      "source": [
        "def linearperceptron(x_train, y_train, x_test, epoch, degree_p):\n",
        "    Fai_train_p = np.array(design_matrix(x_train,degree_p))\n",
        "    Fai_test_p = np.array(design_matrix(x_test,degree_p))\n",
        "    W = np.zeros((1,len(Fai_train_p[0])))\n",
        "    for e in range(epoch):\n",
        "        error = 0\n",
        "        for z in range(len(Fai_train_p)):\n",
        "            if ((W @ Fai_train_p[z]) * y_train[z]) <= 0:\n",
        "                W = W + Fai_train_p[z] * y_train[z]\n",
        "                error += 1\n",
        "        W = W / np.linalg.norm(W)\n",
        "        if error == 0:\n",
        "            print('Converged')\n",
        "            break\n",
        "    return W\n",
        ""
      ]
    },
    {
      "cell_type": "markdown",
      "metadata": {
        "id": "8RxbgYyh1p6e"
      },
      "source": [
        "### Compute and show F1_score with respect to degree by a table for linear perceptron"
      ]
    },
    {
      "cell_type": "code",
      "execution_count": null,
      "metadata": {
        "id": "4rzdNCF91p6e",
        "outputId": "8c923708-ee1b-46d4-f6e0-3dbdde17d8a0"
      },
      "outputs": [
        {
          "name": "stdout",
          "output_type": "stream",
          "text": [
            "Converged\n",
            "Converged\n",
            "Converged\n",
            "Converged\n",
            "Converged\n",
            "Converged\n",
            "Converged\n"
          ]
        },
        {
          "data": {
            "text/html": [
              "<div>\n",
              "<style scoped>\n",
              "    .dataframe tbody tr th:only-of-type {\n",
              "        vertical-align: middle;\n",
              "    }\n",
              "\n",
              "    .dataframe tbody tr th {\n",
              "        vertical-align: top;\n",
              "    }\n",
              "\n",
              "    .dataframe thead th {\n",
              "        text-align: right;\n",
              "    }\n",
              "</style>\n",
              "<table border=\"1\" class=\"dataframe\">\n",
              "  <thead>\n",
              "    <tr style=\"text-align: right;\">\n",
              "      <th></th>\n",
              "      <th>Degree</th>\n",
              "      <th>F1_score of LP</th>\n",
              "    </tr>\n",
              "  </thead>\n",
              "  <tbody>\n",
              "    <tr>\n",
              "      <th>0</th>\n",
              "      <td>2</td>\n",
              "      <td>0.181818</td>\n",
              "    </tr>\n",
              "    <tr>\n",
              "      <th>1</th>\n",
              "      <td>3</td>\n",
              "      <td>0.947368</td>\n",
              "    </tr>\n",
              "    <tr>\n",
              "      <th>2</th>\n",
              "      <td>4</td>\n",
              "      <td>0.947368</td>\n",
              "    </tr>\n",
              "    <tr>\n",
              "      <th>3</th>\n",
              "      <td>5</td>\n",
              "      <td>0.947368</td>\n",
              "    </tr>\n",
              "    <tr>\n",
              "      <th>4</th>\n",
              "      <td>6</td>\n",
              "      <td>0.947368</td>\n",
              "    </tr>\n",
              "    <tr>\n",
              "      <th>5</th>\n",
              "      <td>7</td>\n",
              "      <td>0.947368</td>\n",
              "    </tr>\n",
              "    <tr>\n",
              "      <th>6</th>\n",
              "      <td>8</td>\n",
              "      <td>0.947368</td>\n",
              "    </tr>\n",
              "    <tr>\n",
              "      <th>7</th>\n",
              "      <td>9</td>\n",
              "      <td>0.947368</td>\n",
              "    </tr>\n",
              "    <tr>\n",
              "      <th>8</th>\n",
              "      <td>10</td>\n",
              "      <td>0.947368</td>\n",
              "    </tr>\n",
              "  </tbody>\n",
              "</table>\n",
              "</div>"
            ],
            "text/plain": [
              "   Degree  F1_score of LP\n",
              "0       2        0.181818\n",
              "1       3        0.947368\n",
              "2       4        0.947368\n",
              "3       5        0.947368\n",
              "4       6        0.947368\n",
              "5       7        0.947368\n",
              "6       8        0.947368\n",
              "7       9        0.947368\n",
              "8      10        0.947368"
            ]
          },
          "execution_count": 177,
          "metadata": {},
          "output_type": "execute_result"
        }
      ],
      "source": [
        "F1_score_p = []\n",
        "degree_p = 10\n",
        "for ep in range(2,degree_p +1):\n",
        "    W_p = linearperceptron(X_train, Y_train, X_test, 10000, ep)\n",
        "    W_p.shape\n",
        "    Fai_test_p = np.array(design_matrix(X_test,ep))\n",
        "    y_p = Fai_test_p @ W_p.T\n",
        "    Y_p_test = []\n",
        "    for i in y_p:\n",
        "        #print(i)\n",
        "        if (i > 0):\n",
        "            Y_p_test.append(1)\n",
        "        if (i < 0):\n",
        "            Y_p_test.append(-1)\n",
        "    #print(Y_p_test)\n",
        "    F1_score_p.append(Criterion_F(Y_p_test,Y_test))\n",
        "H_p = []\n",
        "for i in range(2,degree_p + 1):\n",
        "    H_p.append(i)\n",
        "df = pd.DataFrame()\n",
        "df['Degree'] = H_p\n",
        "df['F1_score of LP'] = F1_score_p\n",
        "df"
      ]
    },
    {
      "cell_type": "markdown",
      "metadata": {
        "id": "EbPv880C1p6f"
      },
      "source": [
        "### In these two cells, prepare the data and labeled targets for Logistic Regression"
      ]
    },
    {
      "cell_type": "code",
      "execution_count": null,
      "metadata": {
        "id": "P7LhCNnF1p6g"
      },
      "outputs": [],
      "source": [
        "X_train_R = np.vstack((p_tr,q_tr))\n",
        "a_tr = a_tr.reshape(40,1)\n",
        "b_tr = b_tr.reshape(40,1)\n",
        "m = np.vstack((a_tr,b_tr))\n",
        "Y_train_R = []\n",
        "for i in m:\n",
        "    if ( i == 'Iris-setosa'):\n",
        "        Y_train_R.append(1)\n",
        "    else:\n",
        "        Y_train_R.append(0)\n",
        "Y_train_R = np.array(Y_train_R)\n",
        "#Y_train = Y_train.reshape(80,1)\n",
        "#print(Y_train_R)\n",
        "#print(Y_train_R.shape)\n",
        "X_train_R = X_train_R.astype(float)\n",
        "\n",
        "#print(X_train_R)\n",
        "X_train_R.shape\n",
        "X_train_R[: , 0:1] = (X_train_R[: , 0:1] - 4.3)/2.7\n",
        "X_train_R[: , 1:2] = (X_train_R[: , 1:2] - 2)/2.4\n",
        "X_train_R[: ,  -1] = (X_train_R[: , -1] - 1)/4.1\n",
        "#print(X_train_R)\n"
      ]
    },
    {
      "cell_type": "code",
      "execution_count": null,
      "metadata": {
        "id": "PWigU8qq1p6h"
      },
      "outputs": [],
      "source": [
        "X_test_R = np.vstack((p_ts,q_ts))\n",
        "a_ts = a_ts.reshape(10,1)\n",
        "b_ts = b_ts.reshape(10,1)\n",
        "m_test = np.vstack((a_ts,b_ts))\n",
        "Y_test_R = []\n",
        "for i in m_test:\n",
        "    if ( i == 'Iris-setosa'):\n",
        "        Y_test_R.append(1)\n",
        "    else:\n",
        "        Y_test_R.append(0)\n",
        "Y_test_R = np.array(Y_test_R)\n",
        "#Y_train = Y_train.reshape(80,1)\n",
        "#print(Y_test_R)\n",
        "#print(Y_test_R.shape)\n",
        "X_test_R.shape\n",
        "Y_test_R.shape\n",
        "X_test_R = X_test_R.astype(float)\n",
        "\n",
        "#print(X_test_R)\n",
        "X_test_R.shape\n",
        "X_test_R[: , 0:1] = (X_test_R[: , 0:1] - 4.3)/2.7\n",
        "X_test_R[: , 1:2] = (X_test_R[: , 1:2] - 2)/2.4\n",
        "X_test_R[: ,  -1] = (X_test_R[: , -1] - 1)/4.1\n",
        "#print(X_test_R)"
      ]
    },
    {
      "cell_type": "markdown",
      "metadata": {
        "id": "qXFBT5681p6i"
      },
      "source": [
        "# Logistic Regression"
      ]
    },
    {
      "cell_type": "code",
      "execution_count": null,
      "metadata": {
        "id": "KWDGZn7K1p6j"
      },
      "outputs": [],
      "source": [
        "def LogesticRegression(X, Y, epoch, lr, degree_R, convergence_delta):\n",
        "    Fai_train_R = np.array(design_matrix(X_train_R,degree_R))\n",
        "    W = np.zeros((len(Fai_train_R[0]),1))\n",
        "    N = len(Y)\n",
        "    def cost(y,t):\n",
        "        return  -(t.T @ np.log(y) + (1-t).T @ np.log(1-y)).mean()\n",
        "    costs = [-1]\n",
        "    #costs.append(cost(LR,Y))\n",
        "    for i in range(epoch):\n",
        "        Z = Fai_train_R @ W\n",
        "        LR = 1 / (1 + np.exp(-Z))\n",
        "        GR = (1 / N) * Fai_train_R.T @ (np.subtract(LR,Y.reshape(80,1)))\n",
        "        W = W - (lr * GR)\n",
        "        costs.append(cost(LR,Y))\n",
        "        if costs[-1] > costs[-2]:\n",
        "            lr = lr / 2\n",
        "\n",
        "        if np.linalg.norm(GR) < convergence_delta:\n",
        "            print('Converged')\n",
        "            break\n",
        "\n",
        "\n",
        "    plt.plot(costs[3:])\n",
        "    plt.show()\n",
        "    return W"
      ]
    },
    {
      "cell_type": "markdown",
      "metadata": {
        "id": "9xxUWxhu1p6j"
      },
      "source": [
        "### Compute F1_score and plot cost function for 1 to 10 degree"
      ]
    },
    {
      "cell_type": "code",
      "execution_count": null,
      "metadata": {
        "id": "GOJQLqGW1p6k",
        "outputId": "363fc85f-4509-47b4-868c-cc3d4d61dfca"
      },
      "outputs": [
        {
          "name": "stdout",
          "output_type": "stream",
          "text": [
            "Plot of cost with degree 1:\n",
            "Converged\n"
          ]
        },
        {
          "data": {
            "image/png": "[encoded data removed]",
            "text/plain": [
              "<Figure size 432x288 with 1 Axes>"
            ]
          },
          "metadata": {
            "needs_background": "light"
          },
          "output_type": "display_data"
        },
        {
          "name": "stdout",
          "output_type": "stream",
          "text": [
            "Plot of cost with degree 2:\n",
            "Converged\n"
          ]
        },
        {
          "data": {
            "image/png": "[encoded data removed]",
            "text/plain": [
              "<Figure size 432x288 with 1 Axes>"
            ]
          },
          "metadata": {
            "needs_background": "light"
          },
          "output_type": "display_data"
        },
        {
          "name": "stdout",
          "output_type": "stream",
          "text": [
            "Plot of cost with degree 3:\n",
            "Converged\n"
          ]
        },
        {
          "data": {
            "image/png": "[encoded data removed]",
            "text/plain": [
              "<Figure size 432x288 with 1 Axes>"
            ]
          },
          "metadata": {
            "needs_background": "light"
          },
          "output_type": "display_data"
        },
        {
          "name": "stdout",
          "output_type": "stream",
          "text": [
            "Plot of cost with degree 4:\n",
            "Converged\n"
          ]
        },
        {
          "data": {
            "image/png": "[encoded data removed]",
            "text/plain": [
              "<Figure size 432x288 with 1 Axes>"
            ]
          },
          "metadata": {
            "needs_background": "light"
          },
          "output_type": "display_data"
        },
        {
          "name": "stdout",
          "output_type": "stream",
          "text": [
            "Plot of cost with degree 5:\n",
            "Converged\n"
          ]
        },
        {
          "data": {
            "image/png": "[encoded data removed]",
            "text/plain": [
              "<Figure size 432x288 with 1 Axes>"
            ]
          },
          "metadata": {
            "needs_background": "light"
          },
          "output_type": "display_data"
        },
        {
          "name": "stdout",
          "output_type": "stream",
          "text": [
            "Plot of cost with degree 6:\n",
            "Converged\n"
          ]
        },
        {
          "data": {
            "image/png": "[encoded data removed]",
            "text/plain": [
              "<Figure size 432x288 with 1 Axes>"
            ]
          },
          "metadata": {
            "needs_background": "light"
          },
          "output_type": "display_data"
        },
        {
          "name": "stdout",
          "output_type": "stream",
          "text": [
            "Plot of cost with degree 7:\n",
            "Converged\n"
          ]
        },
        {
          "data": {
            "image/png": "[encoded data removed]",
            "text/plain": [
              "<Figure size 432x288 with 1 Axes>"
            ]
          },
          "metadata": {
            "needs_background": "light"
          },
          "output_type": "display_data"
        },
        {
          "name": "stdout",
          "output_type": "stream",
          "text": [
            "Plot of cost with degree 8:\n",
            "Converged\n"
          ]
        },
        {
          "data": {
            "image/png": "[encoded data removed]",
            "text/plain": [
              "<Figure size 432x288 with 1 Axes>"
            ]
          },
          "metadata": {
            "needs_background": "light"
          },
          "output_type": "display_data"
        },
        {
          "name": "stdout",
          "output_type": "stream",
          "text": [
            "Plot of cost with degree 9:\n",
            "Converged\n"
          ]
        },
        {
          "data": {
            "image/png": "[encoded data removed]",
            "text/plain": [
              "<Figure size 432x288 with 1 Axes>"
            ]
          },
          "metadata": {
            "needs_background": "light"
          },
          "output_type": "display_data"
        },
        {
          "name": "stdout",
          "output_type": "stream",
          "text": [
            "Plot of cost with degree 10:\n",
            "Converged\n"
          ]
        },
        {
          "data": {
            "image/png": "[encoded data removed]",
            "text/plain": [
              "<Figure size 432x288 with 1 Axes>"
            ]
          },
          "metadata": {
            "needs_background": "light"
          },
          "output_type": "display_data"
        }
      ],
      "source": [
        "F1_score_R = []\n",
        "degree_R = 10\n",
        "for ep in range(1,degree_R +1):\n",
        "    print('Plot of cost with degree ' + str(ep) + ':')\n",
        "    W_R = LogesticRegression(X_train_R, Y_train_R, 100000, 0.01, ep, convergence_delta=0.01)\n",
        "    Fai_test_R = np.array(design_matrix(X_test_R,ep))\n",
        "    Y_PRR = Fai_test_R @ W_R\n",
        "    Y_PRR_test = []\n",
        "    for i in Y_PRR:\n",
        "        #print(i)\n",
        "        if (i > 0.5):\n",
        "            Y_PRR_test.append(1)\n",
        "        if (i < 0.5):\n",
        "            Y_PRR_test.append(0)\n",
        "    #print(Y_p_test)\n",
        "    F1_score_R.append(Criterion_F(Y_PRR_test,Y_test_R))\n"
      ]
    },
    {
      "cell_type": "markdown",
      "metadata": {
        "id": "WF_xHil21p6k"
      },
      "source": [
        "### create Table to show F1_score with respect to degree"
      ]
    },
    {
      "cell_type": "code",
      "execution_count": null,
      "metadata": {
        "id": "lhF_8qPx1p6l",
        "outputId": "855be7e0-a008-4bd3-bd74-5ed9ff9115bf"
      },
      "outputs": [
        {
          "data": {
            "text/html": [
              "<div>\n",
              "<style scoped>\n",
              "    .dataframe tbody tr th:only-of-type {\n",
              "        vertical-align: middle;\n",
              "    }\n",
              "\n",
              "    .dataframe tbody tr th {\n",
              "        vertical-align: top;\n",
              "    }\n",
              "\n",
              "    .dataframe thead th {\n",
              "        text-align: right;\n",
              "    }\n",
              "</style>\n",
              "<table border=\"1\" class=\"dataframe\">\n",
              "  <thead>\n",
              "    <tr style=\"text-align: right;\">\n",
              "      <th></th>\n",
              "      <th>Degree</th>\n",
              "      <th>F1_score of LR</th>\n",
              "    </tr>\n",
              "  </thead>\n",
              "  <tbody>\n",
              "    <tr>\n",
              "      <th>0</th>\n",
              "      <td>1</td>\n",
              "      <td>1.0</td>\n",
              "    </tr>\n",
              "    <tr>\n",
              "      <th>1</th>\n",
              "      <td>2</td>\n",
              "      <td>1.0</td>\n",
              "    </tr>\n",
              "    <tr>\n",
              "      <th>2</th>\n",
              "      <td>3</td>\n",
              "      <td>1.0</td>\n",
              "    </tr>\n",
              "    <tr>\n",
              "      <th>3</th>\n",
              "      <td>4</td>\n",
              "      <td>1.0</td>\n",
              "    </tr>\n",
              "    <tr>\n",
              "      <th>4</th>\n",
              "      <td>5</td>\n",
              "      <td>1.0</td>\n",
              "    </tr>\n",
              "    <tr>\n",
              "      <th>5</th>\n",
              "      <td>6</td>\n",
              "      <td>1.0</td>\n",
              "    </tr>\n",
              "    <tr>\n",
              "      <th>6</th>\n",
              "      <td>7</td>\n",
              "      <td>1.0</td>\n",
              "    </tr>\n",
              "    <tr>\n",
              "      <th>7</th>\n",
              "      <td>8</td>\n",
              "      <td>1.0</td>\n",
              "    </tr>\n",
              "    <tr>\n",
              "      <th>8</th>\n",
              "      <td>9</td>\n",
              "      <td>1.0</td>\n",
              "    </tr>\n",
              "    <tr>\n",
              "      <th>9</th>\n",
              "      <td>10</td>\n",
              "      <td>1.0</td>\n",
              "    </tr>\n",
              "  </tbody>\n",
              "</table>\n",
              "</div>"
            ],
            "text/plain": [
              "   Degree  F1_score of LR\n",
              "0       1             1.0\n",
              "1       2             1.0\n",
              "2       3             1.0\n",
              "3       4             1.0\n",
              "4       5             1.0\n",
              "5       6             1.0\n",
              "6       7             1.0\n",
              "7       8             1.0\n",
              "8       9             1.0\n",
              "9      10             1.0"
            ]
          },
          "execution_count": 181,
          "metadata": {},
          "output_type": "execute_result"
        }
      ],
      "source": [
        "H_R = []\n",
        "for i in range(1,degree_R + 1):\n",
        "    H_R.append(i)\n",
        "df = pd.DataFrame()\n",
        "df['Degree'] = H_R\n",
        "df['F1_score of LR'] = F1_score_R\n",
        "df"
      ]
    }
  ],
  "metadata": {
    "kernelspec": {
      "display_name": "Python 3",
      "language": "python",
      "name": "python3"
    },
    "language_info": {
      "codemirror_mode": {
        "name": "ipython",
        "version": 3
      },
      "file_extension": ".py",
      "mimetype": "text/x-python",
      "name": "python",
      "nbconvert_exporter": "python",
      "pygments_lexer": "ipython3",
      "version": "3.7.6"
    },
    "colab": {
      "provenance": []
    }
  },
  "nbformat": 4,
  "nbformat_minor": 0
}