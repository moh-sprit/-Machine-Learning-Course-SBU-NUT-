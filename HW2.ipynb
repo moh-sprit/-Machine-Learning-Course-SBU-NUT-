{
  "cells": [
    {
      "cell_type": "markdown",
      "metadata": {
        "id": "ynsKlTdIPpUh"
      },
      "source": [
        "# HW2\n",
        "# Mohammadreza Yadegari"
      ]
    },
    {
      "cell_type": "markdown",
      "metadata": {
        "id": "Jui716ZcPpUt"
      },
      "source": [
        "### My dataset is the 'Advertising Dataset,' which concerns the use of advertising through three methods: TV, radio, and newspaper. It demonstrates the relationship between advertising expenditures on these three mediums and sales.\n",
        "\n",
        "\n",
        "### This is the link for download https://www.kaggle.com/ashydv/advertising-dataset/download"
      ]
    },
    {
      "cell_type": "code",
      "execution_count": null,
      "metadata": {
        "id": "CLpshg1MPpU5"
      },
      "outputs": [],
      "source": [
        "import csv\n",
        "import random\n",
        "import math\n",
        "import numpy as np\n",
        "import matplotlib.pyplot as plt\n"
      ]
    },
    {
      "cell_type": "code",
      "execution_count": null,
      "metadata": {
        "colab": {
          "base_uri": "https://localhost:8080/"
        },
        "id": "2RHmrAp2PpVA",
        "outputId": "6e95d8ae-018a-4376-b1e1-3a185f6bd8ca"
      },
      "outputs": [
        {
          "output_type": "stream",
          "name": "stdout",
          "text": [
            "HEADERS\n",
            "['S.no', 'TV', 'radio', 'newspaper', 'sales']\n",
            "Dataset Size\n",
            "200 X 5\n",
            "Size of X\n",
            "(200, 3)\n",
            "Size of Y\n",
            "(200, 1)\n",
            "[[0.77631579 0.12753036 0.23346829]\n",
            " [0.15013495 0.13259109 0.15215924]\n",
            " [0.05802969 0.1548583  0.23380567]\n",
            " [0.5111336  0.13933873 0.19736842]\n",
            " [0.6099865  0.03643725 0.19703104]]\n",
            "[[0.80392157]\n",
            " [0.34509804]\n",
            " [0.30196078]\n",
            " [0.6627451 ]\n",
            " [0.44313725]]\n",
            "200\n"
          ]
        }
      ],
      "source": [
        "def loadDataset(filename):\n",
        "    with open(filename, 'r') as csvfile:\n",
        "        lines = csv.reader(csvfile)\n",
        "        dataset = list(lines)\n",
        "        headers = dataset[0]\n",
        "        dataset = dataset[1: len(dataset)]\n",
        "        return dataset , headers\n",
        "dataset , headers = loadDataset('Advertising Dataset.csv')\n",
        "print(\"HEADERS\")\n",
        "print(headers)\n",
        "dataset = np.array(dataset)\n",
        "dataset = dataset.astype(float)\n",
        "print(\"Dataset Size\")\n",
        "print(len(dataset), \"X\", len(dataset[0]))\n",
        "\n",
        "X = dataset[:, 1:-1]\n",
        "X = X/296.4\n",
        "Y = dataset[:, -1]\n",
        "Y = (Y - 1.6)/25.5\n",
        "Y = np.array(Y).reshape((len(Y),1))\n",
        "print(\"Size of X\")\n",
        "print(X.shape)\n",
        "print(\"Size of Y\")\n",
        "print(Y.shape)\n",
        "print(X[0:5])\n",
        "print(Y[0:5])\n",
        "print(len(X))"
      ]
    },
    {
      "cell_type": "code",
      "execution_count": null,
      "metadata": {
        "id": "gSE-nCu7PpVF"
      },
      "outputs": [],
      "source": [
        "def train_test_split(X, Y, split):\n",
        "\n",
        "\n",
        "    indices = np.array(range(len(X)))\n",
        "\n",
        "    train_size = round(split * len(X))\n",
        "\n",
        "    train_indices = indices[0:train_size]\n",
        "    test_indices = indices[train_size:len(X)]\n",
        "\n",
        "\n",
        "    X_train = X[train_indices, :]\n",
        "    X_test = X[test_indices, :]\n",
        "    Y_train = Y[train_indices, :]\n",
        "    Y_test = Y[test_indices, :]\n",
        "    return X_train,Y_train, X_test, Y_test"
      ]
    },
    {
      "cell_type": "code",
      "execution_count": null,
      "metadata": {
        "id": "s5X9WuEJPpVI"
      },
      "outputs": [],
      "source": [
        "split = 0.8\n",
        "X_train, Y_train, X_test, Y_test = train_test_split(X, Y, split)"
      ]
    },
    {
      "cell_type": "code",
      "execution_count": null,
      "metadata": {
        "colab": {
          "base_uri": "https://localhost:8080/"
        },
        "id": "fdyhV4t_PpVL",
        "outputId": "a43e1a0a-cb20-4d32-bfc3-685c19057b90"
      },
      "outputs": [
        {
          "output_type": "stream",
          "name": "stdout",
          "text": [
            "TRAINING SET\n",
            "X_train.shape:  (160, 3)\n",
            "Y_train.shape:  (160, 1)\n",
            "TESTING SET\n",
            "X_test.shape:  (40, 3)\n",
            "Y_test.shape:  (40, 1)\n"
          ]
        }
      ],
      "source": [
        "print (\"TRAINING SET\")\n",
        "print(\"X_train.shape: \", X_train.shape)\n",
        "print(\"Y_train.shape: \", Y_train.shape)\n",
        "\n",
        "print(\"TESTING SET\")\n",
        "print(\"X_test.shape: \", X_test.shape)\n",
        "print(\"Y_test.shape: \", Y_test.shape)"
      ]
    },
    {
      "cell_type": "markdown",
      "metadata": {
        "id": "iSb4x9F2PpVM"
      },
      "source": [
        "### Create base functions"
      ]
    },
    {
      "cell_type": "code",
      "execution_count": null,
      "metadata": {
        "id": "x7pssGVTPpVO"
      },
      "outputs": [],
      "source": [
        "def base_function(g,y,z,m):\n",
        "    c = []\n",
        "    for i in range(m):\n",
        "        for j in range(m):\n",
        "            for k in range(m):\n",
        "                if (((i + j + k) <= m)):\n",
        "                        c.append((g**i)*(y**j)*(z**k))\n",
        "\n",
        "    c.append(g**m)\n",
        "    c.append(y**m)\n",
        "    c.append(z**m)\n",
        "    return(c)\n",
        "\n",
        ""
      ]
    },
    {
      "cell_type": "markdown",
      "metadata": {
        "id": "LF3TzRnSPpVP"
      },
      "source": [
        "### Create design matrix"
      ]
    },
    {
      "cell_type": "code",
      "execution_count": null,
      "metadata": {
        "id": "yNG0AfwlPpVR"
      },
      "outputs": [],
      "source": [
        "def design_matrix(v,m):\n",
        "    f = []\n",
        "    for i in range(len(v)):\n",
        "        f.append(base_function(v[i][0],v[i][1],v[i][2],m))\n",
        "    return(f)\n",
        ""
      ]
    },
    {
      "cell_type": "code",
      "execution_count": null,
      "metadata": {
        "id": "HnQbulKiPpVT"
      },
      "outputs": [],
      "source": [
        "def predict(ww, F):\n",
        "    return F @ ww"
      ]
    },
    {
      "cell_type": "code",
      "execution_count": null,
      "metadata": {
        "id": "9hBYXM1kPpVV"
      },
      "outputs": [],
      "source": [
        "def RMSE(h,p):\n",
        "    N = len(h)\n",
        "    c = p - h\n",
        "\n",
        "    return np.sqrt((1 / ( N)) * (c.T @ c))"
      ]
    },
    {
      "cell_type": "markdown",
      "metadata": {
        "id": "uqBGDRZtPpVW"
      },
      "source": [
        "### Normal equation"
      ]
    },
    {
      "cell_type": "code",
      "execution_count": null,
      "metadata": {
        "id": "CK0p_PcTPpVW"
      },
      "outputs": [],
      "source": [
        "def normal_equation(Fa, Ya ):\n",
        "    w = np.linalg.inv(Fai_train.T @ Fai_train) @ Fai_train.T @ Y_train\n",
        "    return w"
      ]
    },
    {
      "cell_type": "code",
      "execution_count": null,
      "metadata": {
        "id": "LiuFBMTOPpVX"
      },
      "outputs": [],
      "source": [
        "m = 7 # Hyper parameter or degree of the polynomial.we can change it\n",
        "Fai_train = np.array(design_matrix(X_train,m))\n",
        "wight = normal_equation(Fai_train, Y_train)\n",
        "p_train = predict(wight,Fai_train)\n",
        "Fai_test = np.array(design_matrix(X_test,m))\n",
        "p_test = predict(wight, Fai_test)\n",
        "trr = RMSE(Y_train,p_train)\n",
        "tss = RMSE(Y_test,p_test)"
      ]
    },
    {
      "cell_type": "code",
      "execution_count": null,
      "metadata": {
        "colab": {
          "base_uri": "https://localhost:8080/"
        },
        "id": "eGRcj-XXPpVY",
        "outputId": "1c9d54a8-148a-426f-f8f1-84267899ab2c"
      },
      "outputs": [
        {
          "output_type": "stream",
          "name": "stdout",
          "text": [
            "[[0.00722399]]\n",
            "[[1.45419579]]\n"
          ]
        }
      ],
      "source": [
        "rmse_train = RMSE(Y_train,p_train)\n",
        "rmse_test = RMSE(Y_test,p_test)\n",
        "print(rmse_train)\n",
        "print(rmse_test)"
      ]
    },
    {
      "cell_type": "markdown",
      "metadata": {
        "id": "YBtsrPLZPpVa"
      },
      "source": [
        "\n",
        "### You can see plot of train data without regularization"
      ]
    },
    {
      "cell_type": "code",
      "execution_count": null,
      "metadata": {
        "colab": {
          "base_uri": "https://localhost:8080/",
          "height": 265
        },
        "id": "J4XaqER8PpVb",
        "outputId": "57b21188-3700-48ff-ece9-81e0ca34bc70"
      },
      "outputs": [
        {
          "output_type": "display_data",
          "data": {
            "image/png": "[encoded data removed]",
            "text/plain": [
              "<Figure size 432x288 with 1 Axes>"
            ]
          },
          "metadata": {
            "needs_background": "light"
          }
        }
      ],
      "source": [
        "plt.scatter(p_train , Y_train)\n",
        "plt.show()\n",
        ""
      ]
    },
    {
      "cell_type": "markdown",
      "metadata": {
        "id": "a2tkP5VDPpVc"
      },
      "source": [
        "### In these seven cells, we can observe Task CF, which involves learning using the closed-form equation. This is a Full Batch learning approach that solves the linear equation system derived from Regularized Linear Regression with Quadratic Regularization, also known as Tikhonov Regularization or Ridge Regression.\n",
        "### In cell 7, we can see a plot based on the different LAMBDA values.\n"
      ]
    },
    {
      "cell_type": "code",
      "execution_count": null,
      "metadata": {
        "id": "WjqojCQKPpVd"
      },
      "outputs": [],
      "source": [
        "def regularized_normal_equation(Fa, Ya , lambd):\n",
        "    I = np.eye(len(Fai_train[0]))\n",
        "    w = (np.linalg.inv((Fai_train.T @ Fai_train) + (lambd * I))) @ Fai_train.T @ Y_train\n",
        "    return w"
      ]
    },
    {
      "cell_type": "code",
      "execution_count": null,
      "metadata": {
        "id": "NZp444pBPpVe"
      },
      "outputs": [],
      "source": [
        "m = 7 # Hyper parameter or degree of the polynomial.we can change it\n",
        "lambdas = [0.00001,0.0001,0.001,0.01,0.1,1,10]\n",
        "netr = []\n",
        "nets = []\n",
        "for lamb in lambdas:\n",
        "    Fai_train = np.array(design_matrix(X_train,m))\n",
        "    wight = regularized_normal_equation(Fai_train, Y_train, lamb)\n",
        "    p_train = predict(wight,Fai_train)\n",
        "    Fai_test = np.array(design_matrix(X_test,m))\n",
        "    p_test = predict(wight, Fai_test)\n",
        "    trr = RMSE(Y_train,p_train)\n",
        "    tss = RMSE(Y_test,p_test)\n",
        "    netr.append(trr)\n",
        "    nets.append(tss)"
      ]
    },
    {
      "cell_type": "code",
      "execution_count": null,
      "metadata": {
        "id": "bBogDNF6PpVe",
        "outputId": "1a6400ee-bc28-4024-c16b-941ca812d2f3",
        "colab": {
          "base_uri": "https://localhost:8080/"
        }
      },
      "outputs": [
        {
          "output_type": "stream",
          "name": "stdout",
          "text": [
            "7\n"
          ]
        },
        {
          "output_type": "execute_result",
          "data": {
            "text/plain": [
              "[0.014981711985326803,\n",
              " 0.016341437095762554,\n",
              " 0.01870195885636681,\n",
              " 0.02389287357306489,\n",
              " 0.03641809164180151,\n",
              " 0.08140390163275595,\n",
              " 0.12311632432836515]"
            ]
          },
          "metadata": {},
          "execution_count": 73
        }
      ],
      "source": [
        "f = []\n",
        "print(len(netr))\n",
        "for i in range(len(netr)):\n",
        "    f.append(netr[i][0][0])\n",
        "f"
      ]
    },
    {
      "cell_type": "code",
      "execution_count": null,
      "metadata": {
        "id": "gpuzDfMkPpVf",
        "outputId": "c63de8f8-4280-4ad6-f4b4-c05753b13732",
        "colab": {
          "base_uri": "https://localhost:8080/"
        }
      },
      "outputs": [
        {
          "output_type": "execute_result",
          "data": {
            "text/plain": [
              "[0.011895249621894031,\n",
              " 0.012217834307874206,\n",
              " 0.012433321633057708,\n",
              " 0.017420279834758332,\n",
              " 0.03382573456189888,\n",
              " 0.09345510286579727,\n",
              " 0.1305543235148339]"
            ]
          },
          "metadata": {},
          "execution_count": 74
        }
      ],
      "source": [
        "j = []\n",
        "for i in range(len(nets)):\n",
        "    j.append(nets[i][0][0])\n",
        "j"
      ]
    },
    {
      "cell_type": "code",
      "execution_count": null,
      "metadata": {
        "id": "FamcVwF9PpVf",
        "outputId": "4e83c0b1-a437-4cb4-9d53-1b3c69b85143",
        "colab": {
          "base_uri": "https://localhost:8080/",
          "height": 297
        }
      },
      "outputs": [
        {
          "output_type": "display_data",
          "data": {
            "image/png": "[encoded data removed]",
            "text/plain": [
              "<Figure size 432x288 with 1 Axes>"
            ]
          },
          "metadata": {
            "needs_background": "light"
          }
        },
        {
          "output_type": "display_data",
          "data": {
            "text/plain": [
              "<Figure size 7200x432 with 0 Axes>"
            ]
          },
          "metadata": {}
        }
      ],
      "source": [
        "plt.plot(np.array(lambdas), np.array(f), label='Training', marker = 'o')\n",
        "plt.plot(lambdas, j, label='Test', marker = 'o')\n",
        "plt.legend()\n",
        "plt.xlabel(\"Lambdas\")\n",
        "plt.ylabel(\"RMSE\")\n",
        "plt.figure(figsize=(100, 6))\n",
        "plt.show()"
      ]
    },
    {
      "cell_type": "markdown",
      "metadata": {
        "id": "B8TwUA07PpVg"
      },
      "source": [
        "### In these seven cells, we can observe Task GD_Q, which includes a plot for the different cost functions based on various values of LAMBDA over 10,000 epochs.\n",
        "### In cell 7, we can see a plot based on the different LAMBDA values."
      ]
    },
    {
      "cell_type": "code",
      "execution_count": null,
      "metadata": {
        "id": "gvE19NpmPpVh"
      },
      "outputs": [],
      "source": [
        "def sse_cost(X, w, Y):\n",
        "    N = len(Y)\n",
        "    c = (X @ w) - Y\n",
        "\n",
        "    return (1 / (2 * N)) * (c.T @ c)"
      ]
    },
    {
      "cell_type": "code",
      "execution_count": null,
      "metadata": {
        "id": "RBDf-IkmPpVi"
      },
      "outputs": [],
      "source": [
        "def sse_gradient(X, w, Y):\n",
        "    N = len(Y)\n",
        "\n",
        "    return (1 / N) * (X.T @ ((X @ w) - Y))\n",
        "\n",
        "\n",
        "def Q_reg_gradient_descent(gradient, X, Y, lamb, epochs, lr=0.01, convergence_delta=0.001):\n",
        "    w = np.zeros((len(X[0]),1))\n",
        "    costs = []\n",
        "    costs.append(sse_cost(X, w, Y))\n",
        "    N = len(Y)\n",
        "    for _ in range(epochs):\n",
        "        nabla = gradient(X, w, Y)\n",
        "        w = w * (1 - lr * (lamb/N)) - lr * nabla\n",
        "        costs.append(sse_cost(X, w, Y))\n",
        "        if costs[-1] > costs[-2]:\n",
        "            lr = lr / 2\n",
        "\n",
        "        if np.linalg.norm(nabla) < convergence_delta:\n",
        "            print('Converged')\n",
        "            break\n",
        "\n",
        "    #print(costs[4].shape)\n",
        "    #print(costs[3:])\n",
        "    for i in range(len(costs)):\n",
        "        costs[i] = costs[i].reshape(-1,)\n",
        "\n",
        "    plt.plot(costs[3:])\n",
        "    plt.show()\n",
        "    return w"
      ]
    },
    {
      "cell_type": "code",
      "execution_count": null,
      "metadata": {
        "id": "QJ9EQXjGPpVj"
      },
      "outputs": [],
      "source": [
        "m = 7 # Hyper parameter\n",
        "Phi = np.array(design_matrix(X_train,m))\n",
        "Phi_test = np.array(design_matrix(X_test,m))"
      ]
    },
    {
      "cell_type": "code",
      "execution_count": null,
      "metadata": {
        "id": "uK7774OuPpVk",
        "outputId": "80339bb0-a1c7-4427-ad54-b62e92d6e944",
        "colab": {
          "base_uri": "https://localhost:8080/",
          "height": 1000
        }
      },
      "outputs": [
        {
          "output_type": "display_data",
          "data": {
            "image/png": "[encoded data removed]",
            "text/plain": [
              "<Figure size 432x288 with 1 Axes>"
            ]
          },
          "metadata": {
            "needs_background": "light"
          }
        },
        {
          "output_type": "display_data",
          "data": {
            "image/png": "[encoded data removed]",
            "text/plain": [
              "<Figure size 432x288 with 1 Axes>"
            ]
          },
          "metadata": {
            "needs_background": "light"
          }
        },
        {
          "output_type": "display_data",
          "data": {
            "image/png": "[encoded data removed]",
            "text/plain": [
              "<Figure size 432x288 with 1 Axes>"
            ]
          },
          "metadata": {
            "needs_background": "light"
          }
        },
        {
          "output_type": "display_data",
          "data": {
            "image/png": "[encoded data removed]",
            "text/plain": [
              "<Figure size 432x288 with 1 Axes>"
            ]
          },
          "metadata": {
            "needs_background": "light"
          }
        },
        {
          "output_type": "stream",
          "name": "stdout",
          "text": [
            "Error on test data: [[0.00922136]]\n",
            "Error for each lambda on TestData is: [array([[0.00957573]]), array([[0.0095711]]), array([[0.00952622]]), array([[0.00922136]])]\n"
          ]
        }
      ],
      "source": [
        "lambdas = [0.01, 0.1, 1, 10]\n",
        "Error_on_testdata_QGD = []\n",
        "rmse_test_q_gd = []\n",
        "rmse_train_q_gd = []\n",
        "for lambd in lambdas:\n",
        "    w = Q_reg_gradient_descent(sse_gradient, Phi, Y_train, lambd, 10000, lr=0.001)\n",
        "    Error_on_testdata_QGD.append(sse_cost(Phi_test, w, Y_test))\n",
        "    rmse_test_q_gd.append(RMSE(predict(w , Phi_test),Y_test))\n",
        "    rmse_train_q_gd.append(RMSE(predict(w, Phi), Y_train))\n",
        "print(f'Error on test data: {sse_cost(Phi_test, w, Y_test)}')\n",
        "print(f'Error for each lambda on TestData is: {Error_on_testdata_QGD}')"
      ]
    },
    {
      "cell_type": "code",
      "source": [
        "v = []\n",
        "for i in range(len(rmse_train_q_gd)):\n",
        "    v.append(rmse_train_q_gd[i][0][0])\n",
        "v"
      ],
      "metadata": {
        "colab": {
          "base_uri": "https://localhost:8080/"
        },
        "id": "-KHqGs9rwiy2",
        "outputId": "301e47f9-5571-453b-b293-0b331e21bcb0"
      },
      "execution_count": null,
      "outputs": [
        {
          "output_type": "execute_result",
          "data": {
            "text/plain": [
              "[0.12538043825261092,\n",
              " 0.12540967572784814,\n",
              " 0.12571079831709944,\n",
              " 0.1295120962446423]"
            ]
          },
          "metadata": {},
          "execution_count": 119
        }
      ]
    },
    {
      "cell_type": "code",
      "source": [
        "c = []\n",
        "for i in range(len(rmse_test_q_gd)):\n",
        "    c.append(rmse_test_q_gd[i][0][0])\n",
        "c"
      ],
      "metadata": {
        "colab": {
          "base_uri": "https://localhost:8080/"
        },
        "id": "iBkiKj-6w9s9",
        "outputId": "56590dc5-459c-4190-8a0d-5764477d6736"
      },
      "execution_count": null,
      "outputs": [
        {
          "output_type": "execute_result",
          "data": {
            "text/plain": [
              "[0.13838882469155878,\n",
              " 0.13835530497656723,\n",
              " 0.1380305910103194,\n",
              " 0.13580401050099136]"
            ]
          },
          "metadata": {},
          "execution_count": 120
        }
      ]
    },
    {
      "cell_type": "code",
      "execution_count": null,
      "metadata": {
        "id": "XR4GTy1IPpVm",
        "outputId": "3fd3af10-24b0-4a61-c9b7-c9a6cfe0900c",
        "colab": {
          "base_uri": "https://localhost:8080/",
          "height": 297
        }
      },
      "outputs": [
        {
          "output_type": "display_data",
          "data": {
            "image/png": "[encoded data removed]",
            "text/plain": [
              "<Figure size 432x288 with 1 Axes>"
            ]
          },
          "metadata": {
            "needs_background": "light"
          }
        },
        {
          "output_type": "display_data",
          "data": {
            "text/plain": [
              "<Figure size 7200x432 with 0 Axes>"
            ]
          },
          "metadata": {}
        }
      ],
      "source": [
        "plt.plot(lambdas, v , label='Training', marker = 'o')\n",
        "plt.plot(lambdas, c, label='Test', marker = 'o')\n",
        "plt.legend()\n",
        "plt.xlabel(\"Lambdas\")\n",
        "plt.ylabel(\"RMSE\")\n",
        "plt.figure(figsize=(100, 6))\n",
        "plt.show()"
      ]
    },
    {
      "cell_type": "markdown",
      "metadata": {
        "id": "XkXdRyWlPpVq"
      },
      "source": [
        "### In these six cells, we can observe Task GD_L, which includes a plot for different cost functions based on various values for LAMBDA over 10,000 epochs.\n",
        "### In cell 6, we can see a plot based on the different LAMBDA values."
      ]
    },
    {
      "cell_type": "code",
      "execution_count": null,
      "metadata": {
        "id": "yIBogaMLPpVr"
      },
      "outputs": [],
      "source": [
        "def sse_gradient(X, w, Y):\n",
        "    N = len(Y)\n",
        "\n",
        "    return (1 / N) * (X.T @ ((X @ w) - Y))\n",
        "\n",
        "\n",
        "def L_reg_gradient_descent(gradient, X, Y, lamb, epochs, lr=0.01, convergence_delta=0.001):\n",
        "    w = np.zeros((len(X[0]),1))\n",
        "    costs = []\n",
        "    costs.append(sse_cost(X, w, Y))\n",
        "    N = len(Y)\n",
        "    for _ in range(epochs):\n",
        "        nabla = gradient(X, w, Y)\n",
        "        w = w - lr * nabla - (2 * lr * (lamb/N) * np.sign(w))\n",
        "        costs.append(sse_cost(X, w, Y))\n",
        "        if costs[-1] > costs[-2]:\n",
        "            lr = lr / 2\n",
        "\n",
        "        if np.linalg.norm(nabla) < convergence_delta:\n",
        "            print('Converged')\n",
        "            break\n",
        "\n",
        "    #print(costs[4].shape)\n",
        "    #print(costs[3:])\n",
        "    for i in range(len(costs)):\n",
        "        costs[i] = costs[i].reshape(-1,)\n",
        "\n",
        "    plt.plot(costs[3:])\n",
        "    plt.show()\n",
        "    return w"
      ]
    },
    {
      "cell_type": "code",
      "execution_count": null,
      "metadata": {
        "id": "0TpyW88yPpVs"
      },
      "outputs": [],
      "source": [
        "m = 7 # Hyper parameter\n",
        "Phi = np.array(design_matrix(X_train,m))\n",
        "Phi_test = np.array(design_matrix(X_test,m))"
      ]
    },
    {
      "cell_type": "code",
      "execution_count": null,
      "metadata": {
        "id": "JAgYc4gvPpVt",
        "outputId": "aa4f0499-50cf-41c7-de37-a8524f6f93a1",
        "colab": {
          "base_uri": "https://localhost:8080/",
          "height": 1000
        }
      },
      "outputs": [
        {
          "output_type": "display_data",
          "data": {
            "image/png": "[encoded data removed]",
            "text/plain": [
              "<Figure size 432x288 with 1 Axes>"
            ]
          },
          "metadata": {
            "needs_background": "light"
          }
        },
        {
          "output_type": "display_data",
          "data": {
            "image/png": "[encoded data removed]",
            "text/plain": [
              "<Figure size 432x288 with 1 Axes>"
            ]
          },
          "metadata": {
            "needs_background": "light"
          }
        },
        {
          "output_type": "display_data",
          "data": {
            "image/png": "[encoded data removed]",
            "text/plain": [
              "<Figure size 432x288 with 1 Axes>"
            ]
          },
          "metadata": {
            "needs_background": "light"
          }
        },
        {
          "output_type": "display_data",
          "data": {
            "image/png": "[encoded data removed]",
            "text/plain": [
              "<Figure size 432x288 with 1 Axes>"
            ]
          },
          "metadata": {
            "needs_background": "light"
          }
        },
        {
          "output_type": "stream",
          "name": "stdout",
          "text": [
            "Error on test data: [[0.04039273]]\n",
            "Error for each lambda on TestData is: [array([[0.00960891]]), array([[0.00985371]]), array([[0.01012513]]), array([[0.04039273]])]\n"
          ]
        }
      ],
      "source": [
        "lambdas = [0.01, 0.1, 1, 10]\n",
        "Error_on_testdata_GD_L = []\n",
        "rmse_test_l_gd = []\n",
        "rmse_train_l_gd = []\n",
        "ww_gd_l = []\n",
        "for lambd in lambdas:\n",
        "    w = L_reg_gradient_descent(sse_gradient, Phi, Y_train, lambd, 10000, lr=0.001)\n",
        "    Error_on_testdata_GD_L.append(sse_cost(Phi_test, w, Y_test))\n",
        "    rmse_test_l_gd.append(RMSE(predict(w , Phi_test),Y_test))\n",
        "    rmse_train_l_gd.append(RMSE(predict(w, Phi), Y_train))\n",
        "    ww_gd_l.append(w)\n",
        "print(f'Error on test data: {sse_cost(Phi_test, w, Y_test)}')\n",
        "print(f'Error for each lambda on TestData is: {Error_on_testdata_GD_L}')"
      ]
    },
    {
      "cell_type": "code",
      "source": [
        "u = []\n",
        "for i in range(len(rmse_train_l_gd)):\n",
        "    u.append(rmse_train_l_gd[i][0][0])\n",
        "u"
      ],
      "metadata": {
        "colab": {
          "base_uri": "https://localhost:8080/"
        },
        "id": "l2S2DhkeyYzL",
        "outputId": "3c0bc0ea-bddc-49db-d4f1-91a3af0827da"
      },
      "execution_count": null,
      "outputs": [
        {
          "output_type": "execute_result",
          "data": {
            "text/plain": [
              "[0.12556915356900167,\n",
              " 0.12712132007334687,\n",
              " 0.13830936631056712,\n",
              " 0.29562750442847574]"
            ]
          },
          "metadata": {},
          "execution_count": 113
        }
      ]
    },
    {
      "cell_type": "code",
      "source": [
        "o = []\n",
        "for i in range(len(rmse_test_l_gd)):\n",
        "    o.append(rmse_test_l_gd[i][0][0])\n",
        "o"
      ],
      "metadata": {
        "colab": {
          "base_uri": "https://localhost:8080/"
        },
        "id": "faZGBSKUyiK4",
        "outputId": "4a6c1bd4-4cba-454c-9412-1e869da8089a"
      },
      "execution_count": null,
      "outputs": [
        {
          "output_type": "execute_result",
          "data": {
            "text/plain": [
              "[0.13862832458927976,\n",
              " 0.1403830849333573,\n",
              " 0.1423034425365521,\n",
              " 0.284227828742171]"
            ]
          },
          "metadata": {},
          "execution_count": 114
        }
      ]
    },
    {
      "cell_type": "code",
      "execution_count": null,
      "metadata": {
        "id": "hmHbrVYxPpVu",
        "outputId": "114aec6e-f0ce-46c4-c7ab-0a12f2aa77d6",
        "colab": {
          "base_uri": "https://localhost:8080/",
          "height": 297
        }
      },
      "outputs": [
        {
          "output_type": "display_data",
          "data": {
            "image/png": "[encoded data removed]",
            "text/plain": [
              "<Figure size 432x288 with 1 Axes>"
            ]
          },
          "metadata": {
            "needs_background": "light"
          }
        },
        {
          "output_type": "display_data",
          "data": {
            "text/plain": [
              "<Figure size 7200x432 with 0 Axes>"
            ]
          },
          "metadata": {}
        }
      ],
      "source": [
        "plt.plot(lambdas, u , label='Training', marker = 'o')\n",
        "plt.plot(lambdas, o, label='Test', marker = 'o')\n",
        "plt.legend()\n",
        "plt.xlabel(\"Lambdas\")\n",
        "plt.ylabel(\"RMSE\")\n",
        "plt.figure(figsize=(100, 6))\n",
        "plt.show()"
      ]
    },
    {
      "cell_type": "code",
      "execution_count": null,
      "metadata": {
        "id": "rQKdeue7PpVu",
        "outputId": "ae87ec95-7707-442f-b456-60176b74696a",
        "colab": {
          "base_uri": "https://localhost:8080/"
        }
      },
      "outputs": [
        {
          "output_type": "stream",
          "name": "stdout",
          "text": [
            "shape of weights for different lambdas is: (4, 120, 1)\n",
            "non-zeros weights is: 480\n"
          ]
        }
      ],
      "source": [
        "print('shape of weights for different lambdas is:', np.array(ww_gd_l).shape)\n",
        "print('non-zeros weights is:',np.count_nonzero(ww_gd_l))"
      ]
    },
    {
      "cell_type": "markdown",
      "metadata": {
        "id": "HVFQ4C8BPpVv"
      },
      "source": [
        "### In these six cells, we can observe Task SGD_Q, which includes a plot for different cost functions based on various values of LAMBDA over 100 epochs.\n",
        "### In cell 6, we can see a plot based on the different LAMBDA values."
      ]
    },
    {
      "cell_type": "code",
      "execution_count": null,
      "metadata": {
        "id": "UZWlR9WrPpVv"
      },
      "outputs": [],
      "source": [
        "def ss_gradient(X, w, Y):\n",
        "    N = len(Y)\n",
        "\n",
        "    return (1 / N) * (X.T @ ((X @ w) - Y))\n",
        "\n",
        "\n",
        "def Q_reg_S_gradient_descent(gradient, X, Y, lamb, epochs, lr=0.01, convergence_delta=0.001):\n",
        "    w = np.zeros((len(X[0]),1))\n",
        "    costs = []\n",
        "    costs.append(sse_cost(X, w, Y))\n",
        "    N = len(Y)\n",
        "    for _ in range(epochs):\n",
        "        for i in range(len(X)):\n",
        "            random_index=np.random.randint(len(X))\n",
        "            nabla = gradient(X[random_index:random_index+1], w, Y[random_index:random_index+1])\n",
        "            w = w * (1 - lr * (lamb/N)) - lr * nabla\n",
        "            costs.append(sse_cost(X, w, Y))\n",
        "            if costs[-1] > costs[-2]:\n",
        "                lr = lr / 2\n",
        "\n",
        "        if np.linalg.norm(nabla) < convergence_delta:\n",
        "            print('Converged')\n",
        "            break\n",
        "\n",
        "    #print(costs[4].shape)\n",
        "    #print(costs[3:])\n",
        "    for i in range(len(costs)):\n",
        "        costs[i] = costs[i].reshape(-1,)\n",
        "\n",
        "    plt.plot(costs[3:])\n",
        "    plt.show()\n",
        "    return w"
      ]
    },
    {
      "cell_type": "code",
      "execution_count": null,
      "metadata": {
        "id": "a6Lcykr1PpVw"
      },
      "outputs": [],
      "source": [
        "m = 7 # Hyper parameter\n",
        "Phi = np.array(design_matrix(X_train,m))\n",
        "Phi_test = np.array(design_matrix(X_test,m))"
      ]
    },
    {
      "cell_type": "code",
      "execution_count": null,
      "metadata": {
        "id": "BQ23yHXtPpVw",
        "outputId": "e507751b-a504-4db0-9534-9d87e3471f31",
        "colab": {
          "base_uri": "https://localhost:8080/",
          "height": 1000
        }
      },
      "outputs": [
        {
          "output_type": "display_data",
          "data": {
            "image/png": "[encoded data removed]",
            "text/plain": [
              "<Figure size 432x288 with 1 Axes>"
            ]
          },
          "metadata": {
            "needs_background": "light"
          }
        },
        {
          "output_type": "display_data",
          "data": {
            "image/png": "[encoded data removed]",
            "text/plain": [
              "<Figure size 432x288 with 1 Axes>"
            ]
          },
          "metadata": {
            "needs_background": "light"
          }
        },
        {
          "output_type": "display_data",
          "data": {
            "image/png": "[encoded data removed]",
            "text/plain": [
              "<Figure size 432x288 with 1 Axes>"
            ]
          },
          "metadata": {
            "needs_background": "light"
          }
        },
        {
          "output_type": "display_data",
          "data": {
            "image/png": "[encoded data removed]",
            "text/plain": [
              "<Figure size 432x288 with 1 Axes>"
            ]
          },
          "metadata": {
            "needs_background": "light"
          }
        },
        {
          "output_type": "stream",
          "name": "stdout",
          "text": [
            "Error on test data: [[0.08229628]]\n",
            "Error for each lambda on TestData is: [array([[0.05818478]]), array([[0.04752875]]), array([[0.04910526]]), array([[0.08229628]])]\n"
          ]
        }
      ],
      "source": [
        "lambdas = [0.01, 0.1, 1, 10]\n",
        "Error_on_testdata_QSGD = []\n",
        "rmse_test_q_sgd = []\n",
        "rmse_train_q_sgd = []\n",
        "for lambd in lambdas:\n",
        "    w = Q_reg_S_gradient_descent(ss_gradient, Phi, Y_train, lambd, 100, lr=0.001)\n",
        "    Error_on_testdata_QSGD.append(sse_cost(Phi_test, w, Y_test))\n",
        "    rmse_test_q_sgd.append(RMSE(predict(w , Phi_test),Y_test))\n",
        "    rmse_train_q_sgd.append(RMSE(predict(w, Phi), Y_train))\n",
        "print(f'Error on test data: {sse_cost(Phi_test, w, Y_test)}')\n",
        "print(f'Error for each lambda on TestData is: {Error_on_testdata_QSGD}')"
      ]
    },
    {
      "cell_type": "code",
      "source": [
        "l = []\n",
        "for i in range(len(rmse_train_q_sgd)):\n",
        "    l.append(rmse_train_q_sgd[i][0][0])\n",
        "l"
      ],
      "metadata": {
        "colab": {
          "base_uri": "https://localhost:8080/"
        },
        "id": "8UHa2YmL0Uyi",
        "outputId": "d22ca1cf-04f5-494b-8216-6af7f2ea0456"
      },
      "execution_count": null,
      "outputs": [
        {
          "output_type": "execute_result",
          "data": {
            "text/plain": [
              "[0.36182829532274247,\n",
              " 0.32997033422622074,\n",
              " 0.33509485763405283,\n",
              " 0.4211369712756078]"
            ]
          },
          "metadata": {},
          "execution_count": 131
        }
      ]
    },
    {
      "cell_type": "code",
      "source": [
        "p = []\n",
        "for i in range(len(rmse_test_q_sgd)):\n",
        "    p.append(rmse_test_q_sgd[i][0][0])\n",
        "p"
      ],
      "metadata": {
        "colab": {
          "base_uri": "https://localhost:8080/"
        },
        "id": "olXAtGCj0VTO",
        "outputId": "3d3de424-790b-4563-da93-0100e8e7e0b0"
      },
      "execution_count": null,
      "outputs": [
        {
          "output_type": "execute_result",
          "data": {
            "text/plain": [
              "[0.3411298169189289,\n",
              " 0.3083139492818854,\n",
              " 0.31338556940782286,\n",
              " 0.40570008224743287]"
            ]
          },
          "metadata": {},
          "execution_count": 132
        }
      ]
    },
    {
      "cell_type": "code",
      "execution_count": null,
      "metadata": {
        "id": "s3ynqrrePpVy",
        "outputId": "9e90288e-7727-445e-a834-a3d9ffb81067",
        "colab": {
          "base_uri": "https://localhost:8080/",
          "height": 297
        }
      },
      "outputs": [
        {
          "output_type": "display_data",
          "data": {
            "image/png": "[encoded data removed]",
            "text/plain": [
              "<Figure size 432x288 with 1 Axes>"
            ]
          },
          "metadata": {
            "needs_background": "light"
          }
        },
        {
          "output_type": "display_data",
          "data": {
            "text/plain": [
              "<Figure size 7200x432 with 0 Axes>"
            ]
          },
          "metadata": {}
        }
      ],
      "source": [
        "plt.plot(lambdas, l , label='Training', marker = 'o')\n",
        "plt.plot(lambdas, p, label='Test', marker = 'o')\n",
        "plt.legend()\n",
        "plt.xlabel(\"Lambdas\")\n",
        "plt.ylabel(\"RMSE\")\n",
        "plt.figure(figsize=(100, 6))\n",
        "plt.show()"
      ]
    },
    {
      "cell_type": "markdown",
      "metadata": {
        "id": "jvpd8xeAPpVz"
      },
      "source": [
        "### In these six cells, we can observe Task SGD_L, which includes a plot for different cost functions based on various values of LAMBDA over 100 epochs\n",
        "### In cell 6, we can see a plot based on the different LAMBDA values."
      ]
    },
    {
      "cell_type": "code",
      "execution_count": null,
      "metadata": {
        "id": "KYv1y9lGPpVz"
      },
      "outputs": [],
      "source": [
        "def ss_gradient(X, w, Y):\n",
        "    N = len(Y)\n",
        "\n",
        "    return (1 / N) * (X.T @ ((X @ w) - Y))\n",
        "\n",
        "\n",
        "def L_reg_S_gradient_descent(gradient, X, Y, lamb, epochs, lr=0.01, convergence_delta=0.001):\n",
        "    w = np.zeros((len(X[0]),1))\n",
        "    costs = []\n",
        "    costs.append(sse_cost(X, w, Y))\n",
        "    N = len(Y)\n",
        "    for _ in range(epochs):\n",
        "        for i in range(len(X)):\n",
        "            random_index=np.random.randint(len(X))\n",
        "            nabla = gradient(X[random_index:random_index+1], w, Y[random_index:random_index+1])\n",
        "            w = w - lr * nabla + (2 * lr * (lamb/N) * np.sign(w))\n",
        "            costs.append(sse_cost(X, w, Y))\n",
        "            if costs[-1] > costs[-2]:\n",
        "                lr = lr / 2\n",
        "\n",
        "        if np.linalg.norm(nabla) < convergence_delta:\n",
        "            print('Converged')\n",
        "            break\n",
        "\n",
        "    #print(costs[4].shape)\n",
        "    #print(costs[3:])\n",
        "    for i in range(len(costs)):\n",
        "        costs[i] = costs[i].reshape(-1,)\n",
        "\n",
        "    plt.plot(costs[3:])\n",
        "    plt.show()\n",
        "    return w"
      ]
    },
    {
      "cell_type": "code",
      "execution_count": null,
      "metadata": {
        "id": "rWlRvNcuPpV1"
      },
      "outputs": [],
      "source": [
        "m = 7 # Hyper parameter\n",
        "Phi = np.array(design_matrix(X_train,m))\n",
        "Phi_test = np.array(design_matrix(X_test,m))"
      ]
    },
    {
      "cell_type": "code",
      "execution_count": null,
      "metadata": {
        "id": "ABGL91AiPpV1",
        "outputId": "7d49f1b8-a388-4baf-dbb8-ab5a986ac847",
        "colab": {
          "base_uri": "https://localhost:8080/",
          "height": 1000
        }
      },
      "outputs": [
        {
          "output_type": "display_data",
          "data": {
            "image/png": "[encoded data removed]",
            "text/plain": [
              "<Figure size 432x288 with 1 Axes>"
            ]
          },
          "metadata": {
            "needs_background": "light"
          }
        },
        {
          "output_type": "display_data",
          "data": {
            "image/png": "[encoded data removed]",
            "text/plain": [
              "<Figure size 432x288 with 1 Axes>"
            ]
          },
          "metadata": {
            "needs_background": "light"
          }
        },
        {
          "output_type": "display_data",
          "data": {
            "image/png": "[encoded data removed]",
            "text/plain": [
              "<Figure size 432x288 with 1 Axes>"
            ]
          },
          "metadata": {
            "needs_background": "light"
          }
        },
        {
          "output_type": "stream",
          "name": "stdout",
          "text": [
            "Converged\n"
          ]
        },
        {
          "output_type": "display_data",
          "data": {
            "image/png": "[encoded data removed]",
            "text/plain": [
              "<Figure size 432x288 with 1 Axes>"
            ]
          },
          "metadata": {
            "needs_background": "light"
          }
        },
        {
          "output_type": "stream",
          "name": "stdout",
          "text": [
            "Error on test data: [[0.01224193]]\n",
            "Error for each lambda on TestData is: [array([[0.07481001]]), array([[0.05980498]]), array([[0.06412509]]), array([[0.01224193]])]\n"
          ]
        }
      ],
      "source": [
        "lambdas = [0.01, 0.1, 1, 10]\n",
        "Error_on_testdata_SGD_L = []\n",
        "rmse_test_l_sgd = []\n",
        "rmse_train_l_sgd = []\n",
        "ww_sgd_l = []\n",
        "for lambd in lambdas:\n",
        "    w = L_reg_S_gradient_descent(ss_gradient, Phi, Y_train, lambd, 100, lr=0.001)\n",
        "    Error_on_testdata_SGD_L.append(sse_cost(Phi_test, w, Y_test))\n",
        "    rmse_test_l_sgd.append(RMSE(predict(w , Phi_test),Y_test))\n",
        "    rmse_train_l_sgd.append(RMSE(predict(w, Phi), Y_train))\n",
        "    ww_sgd_l.append(w)\n",
        "print(f'Error on test data: {sse_cost(Phi_test, w, Y_test)}')\n",
        "print(f'Error for each lambda on TestData is: {Error_on_testdata_SGD_L}')\n"
      ]
    },
    {
      "cell_type": "code",
      "source": [
        "s = []\n",
        "for i in range(len(rmse_train_l_sgd)):\n",
        "    s.append(rmse_train_l_sgd[i][0][0])\n",
        "s"
      ],
      "metadata": {
        "colab": {
          "base_uri": "https://localhost:8080/"
        },
        "id": "ZDNC7ppL5El0",
        "outputId": "ee5cecad-6041-4622-b8ef-15c9f0e402ce"
      },
      "execution_count": null,
      "outputs": [
        {
          "output_type": "execute_result",
          "data": {
            "text/plain": [
              "[0.4038035430317428,\n",
              " 0.36480442861657053,\n",
              " 0.3777618773775681,\n",
              " 0.17314565399261497]"
            ]
          },
          "metadata": {},
          "execution_count": 145
        }
      ]
    },
    {
      "cell_type": "code",
      "source": [
        "z = []\n",
        "for i in range(len(rmse_test_l_sgd)):\n",
        "    z.append(rmse_test_l_sgd[i][0][0])\n",
        "z"
      ],
      "metadata": {
        "colab": {
          "base_uri": "https://localhost:8080/"
        },
        "id": "H0NwtgYi5FF7",
        "outputId": "bcf0c9c6-8dc7-43e2-a85d-0d49fa7c45f7"
      },
      "execution_count": null,
      "outputs": [
        {
          "output_type": "execute_result",
          "data": {
            "text/plain": [
              "[0.3868074820999527,\n",
              " 0.34584673228582846,\n",
              " 0.3581203518817988,\n",
              " 0.15647316176417003]"
            ]
          },
          "metadata": {},
          "execution_count": 146
        }
      ]
    },
    {
      "cell_type": "code",
      "execution_count": null,
      "metadata": {
        "id": "Oq-GPwG8PpV2",
        "outputId": "dfa30c76-7aa0-46ff-a59e-759ac0ccd2e7",
        "colab": {
          "base_uri": "https://localhost:8080/",
          "height": 297
        }
      },
      "outputs": [
        {
          "output_type": "display_data",
          "data": {
            "image/png": "[encoded data removed]",
            "text/plain": [
              "<Figure size 432x288 with 1 Axes>"
            ]
          },
          "metadata": {
            "needs_background": "light"
          }
        },
        {
          "output_type": "display_data",
          "data": {
            "text/plain": [
              "<Figure size 7200x432 with 0 Axes>"
            ]
          },
          "metadata": {}
        }
      ],
      "source": [
        "plt.plot(lambdas, s , label='Training', marker = 'o')\n",
        "plt.plot(lambdas, z, label='Test', marker = 'o')\n",
        "plt.legend()\n",
        "plt.xlabel(\"Lambdas\")\n",
        "plt.ylabel(\"RMSE\")\n",
        "plt.figure(figsize=(100, 6))\n",
        "plt.show()"
      ]
    },
    {
      "cell_type": "code",
      "execution_count": null,
      "metadata": {
        "id": "9IjcOstePpV3",
        "outputId": "d1ccffd1-aa62-43e4-b11a-65b8b50d035d",
        "colab": {
          "base_uri": "https://localhost:8080/"
        }
      },
      "outputs": [
        {
          "output_type": "stream",
          "name": "stdout",
          "text": [
            "shape of weights for different lambdas is: (4, 120, 1)\n",
            "non-zeros weights is: 480\n"
          ]
        }
      ],
      "source": [
        "print('shape of weights for different lambdas is:', np.array(ww_sgd_l).shape)\n",
        "print('non-zeros weights is:',np.count_nonzero(ww_sgd_l))"
      ]
    }
  ],
  "metadata": {
    "kernelspec": {
      "display_name": "Python 3",
      "language": "python",
      "name": "python3"
    },
    "language_info": {
      "codemirror_mode": {
        "name": "ipython",
        "version": 3
      },
      "file_extension": ".py",
      "mimetype": "text/x-python",
      "name": "python",
      "nbconvert_exporter": "python",
      "pygments_lexer": "ipython3",
      "version": "3.7.6"
    },
    "colab": {
      "provenance": []
    }
  },
  "nbformat": 4,
  "nbformat_minor": 0
}